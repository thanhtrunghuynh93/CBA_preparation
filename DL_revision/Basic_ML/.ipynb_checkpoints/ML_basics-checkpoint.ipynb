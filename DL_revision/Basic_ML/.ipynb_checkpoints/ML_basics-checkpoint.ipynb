{
 "cells": [
  {
   "cell_type": "code",
   "execution_count": null,
   "metadata": {},
   "outputs": [],
   "source": [
    "# Logistic Regression - Quick Notes\n",
    "\n",
    "from IPython.display import Markdown, display\n",
    "\n",
    "display(Markdown(r\"\"\"\n",
    "# 🔍 Logistic Regression\n",
    "\n",
    "**Type**: Supervised Learning  \n",
    "**Task**: Classification (usually binary)\n",
    "\n",
    "---\n",
    "\n",
    "## 🧠 Intuition\n",
    "\n",
    "Logistic Regression estimates the probability that a given input belongs to a particular class using the **sigmoid function**.\n",
    "\n",
    "\\[\n",
    "P(y=1|x) = \\frac{1}{1 + e^{-(w^Tx + b)}}\n",
    "\\]\n",
    "\n",
    "- \\( w \\): weights  \n",
    "- \\( x \\): input features  \n",
    "- \\( b \\): bias  \n",
    "- If output ≥ 0.5 → class 1; else → class 0\n",
    "\n",
    "---\n",
    "\n",
    "## ✅ Key Features\n",
    "\n",
    "- Linear decision boundary  \n",
    "- Probabilistic interpretation  \n",
    "- Easy to implement and fast  \n",
    "- Regularization (L1, L2) helps prevent overfitting\n",
    "\n",
    "---\n",
    "\n",
    "## 📌 Use Cases\n",
    "\n",
    "- Spam detection  \n",
    "- Disease diagnosis (e.g., diabetes prediction)  \n",
    "- Customer churn prediction  \n",
    "\n",
    "---\n",
    "\n",
    "## 💡 Tip\n",
    "\n",
    "Even though it's called \"regression,\" it’s used for **classification**, not predicting continuous values.\n",
    "\"\"\"))"
   ]
  }
 ],
 "metadata": {
  "kernelspec": {
   "display_name": "Python [conda env:pytorch] *",
   "language": "python",
   "name": "conda-env-pytorch-py"
  },
  "language_info": {
   "codemirror_mode": {
    "name": "ipython",
    "version": 3
   },
   "file_extension": ".py",
   "mimetype": "text/x-python",
   "name": "python",
   "nbconvert_exporter": "python",
   "pygments_lexer": "ipython3",
   "version": "3.7.3"
  }
 },
 "nbformat": 4,
 "nbformat_minor": 2
}
